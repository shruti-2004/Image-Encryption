{
 "cells": [
  {
   "cell_type": "code",
   "execution_count": null,
   "id": "de1201e5-8a5d-4d8f-8d0c-1f1f98a38ed0",
   "metadata": {},
   "outputs": [],
   "source": [
    "!pip install pillow pycryptodome"
   ]
  },
  {
   "cell_type": "code",
   "execution_count": 16,
   "id": "1dc5b0f8-048e-41d3-b514-32a9838b7f22",
   "metadata": {},
   "outputs": [
    {
     "name": "stdout",
     "output_type": "stream",
     "text": [
      "Image encrypted and saved as Leo.jpg.enc\n",
      "Key (save this for decryption): cf841fd549efdcd67d2a66bae69db37e\n"
     ]
    },
    {
     "name": "stdin",
     "output_type": "stream",
     "text": [
      "Enter the decryption key:  cf841fd549efdcd67d2a66bae69db37e\n"
     ]
    },
    {
     "name": "stdout",
     "output_type": "stream",
     "text": [
      "Image decrypted and saved as decrypted_image.jpg\n"
     ]
    }
   ],
   "source": [
    "from PIL import Image\n",
    "from Crypto.Cipher import AES\n",
    "from Crypto.Util.Padding import pad, unpad\n",
    "import os\n",
    "\n",
    "def encrypt_image(image_path, key):\n",
    "    image = Image.open(image_path)\n",
    "    image_bytes = image.tobytes()\n",
    "    \n",
    "    cipher = AES.new(key, AES.MODE_CBC)\n",
    "    \n",
    "    encrypted_bytes = cipher.encrypt(pad(image_bytes, AES.block_size))\n",
    "    \n",
    "    with open(image_path + \".enc\", \"wb\") as f:\n",
    "        f.write(cipher.iv)\n",
    "        f.write(encrypted_bytes)\n",
    "    \n",
    "    hex_key = key.hex()\n",
    "    print(\"Image encrypted and saved as \" + image_path + \".enc\")\n",
    "    print(\"Key (save this for decryption):\", hex_key)\n",
    "\n",
    "def decrypt_image(encrypted_image_path, output_path):\n",
    "    hex_key = input(\"Enter the decryption key: \")\n",
    "    key = bytes.fromhex(hex_key)\n",
    "    \n",
    "    with open(encrypted_image_path, \"rb\") as f:\n",
    "        iv = f.read(16)\n",
    "        encrypted_bytes = f.read()\n",
    "    \n",
    "    cipher = AES.new(key, AES.MODE_CBC, iv)\n",
    "    \n",
    "    decrypted_bytes = unpad(cipher.decrypt(encrypted_bytes), AES.block_size)\n",
    "    \n",
    "    original_image = Image.open(encrypted_image_path.replace(\".enc\", \"\"))\n",
    "    mode = original_image.mode\n",
    "    size = original_image.size\n",
    "    \n",
    "    decrypted_image = Image.frombytes(mode, size, decrypted_bytes)\n",
    "    \n",
    "    decrypted_image.save(output_path)\n",
    "    \n",
    "    print(\"Image decrypted and saved as \" + output_path)\n",
    "\n",
    "def generate_key():\n",
    "    return os.urandom(16)\n",
    "\n",
    "if __name__ == \"__main__\":\n",
    "    image_path = \"Leo.jpg\"\n",
    "    \n",
    "    key = generate_key()\n",
    "    \n",
    "    encrypt_image(image_path, key)\n",
    "    \n",
    "    decrypt_image(image_path + \".enc\", \"decrypted_image.jpg\")\n"
   ]
  },
  {
   "cell_type": "code",
   "execution_count": 13,
   "id": "a0474255-14a4-4daa-8c7b-1a5b2c703c0b",
   "metadata": {},
   "outputs": [
    {
     "name": "stdout",
     "output_type": "stream",
     "text": [
      "Image encrypted and saved as leo.jpg.enc\n",
      "Key (save this for decryption): 6c3c2a2d057e5527a66f3d9761277b59\n",
      "b\"l<*-\\x05~U'\\xa6o=\\x97a'{Y\"\n"
     ]
    }
   ],
   "source": [
    "if __name__ == \"__main__\":\n",
    "    image_path = \"leo.jpg\"\n",
    "    \n",
    "    key = generate_key()\n",
    "    \n",
    "    encrypt_image(image_path, key)"
   ]
  },
  {
   "cell_type": "code",
   "execution_count": 14,
   "id": "87092d14-4582-440f-842e-b6e3b55aa6a5",
   "metadata": {},
   "outputs": [
    {
     "name": "stdin",
     "output_type": "stream",
     "text": [
      "Enter the decryption key:  6c3c2a2d057e5527a66f3d9761277b59\n"
     ]
    },
    {
     "name": "stdout",
     "output_type": "stream",
     "text": [
      "Image decrypted and saved as decrypted_image.jpg\n"
     ]
    }
   ],
   "source": [
    "decrypt_image(image_path + \".enc\", \"decrypted_image.jpg\")\n"
   ]
  },
  {
   "cell_type": "code",
   "execution_count": null,
   "id": "32703f9d-a880-441a-8d97-624e66035657",
   "metadata": {},
   "outputs": [],
   "source": []
  }
 ],
 "metadata": {
  "kernelspec": {
   "display_name": "Python 3 (ipykernel)",
   "language": "python",
   "name": "python3"
  },
  "language_info": {
   "codemirror_mode": {
    "name": "ipython",
    "version": 3
   },
   "file_extension": ".py",
   "mimetype": "text/x-python",
   "name": "python",
   "nbconvert_exporter": "python",
   "pygments_lexer": "ipython3",
   "version": "3.12.3"
  }
 },
 "nbformat": 4,
 "nbformat_minor": 5
}
